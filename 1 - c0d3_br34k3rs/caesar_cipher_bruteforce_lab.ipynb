{
 "cells": [
  {
   "cell_type": "markdown",
   "id": "0fa141a9",
   "metadata": {},
   "source": [
    "\n",
    "# 🧪 Hacking Class Lab: Brute‑Forcing Caesar (Shift) Ciphers\n",
    "\n",
    "Welcome to the **Caesar Cipher Brute‑Force Lab**. This notebook is designed for use in **Google Colab** (or locally in Jupyter) for your hacking class session on code breaking with a **Caesar cipher wheel**.\n",
    "\n",
    "### What you'll learn\n",
    "- How Caesar/shift ciphers work and how a cipher wheel represents shifts  \n",
    "- How to brute‑force all 26 keys and **rank** candidates automatically  \n",
    "- How to use **frequency analysis** & **chi‑square** scoring  \n",
    "- How to search with a **crib** (a likely plaintext word)  \n",
    "- How to visualize letter frequencies and reason about results  \n",
    "\n",
    "> Tip: The cipher wheel maps plaintext letters to ciphertext letters by a fixed rotation (shift). Brute‑forcing tries all 26 possible rotations to recover the message.\n"
   ]
  },
  {
   "cell_type": "markdown",
   "id": "db95105d",
   "metadata": {},
   "source": [
    "## 0) Setup"
   ]
  },
  {
   "cell_type": "code",
   "execution_count": null,
   "id": "8b8bd358",
   "metadata": {},
   "outputs": [],
   "source": [
    "\n",
    "# No external installs required. Pure-Python helpers below.\n",
    "from collections import Counter\n",
    "import math\n",
    "import re\n",
    "\n",
    "ALPHABET = \"ABCDEFGHIJKLMNOPQRSTUVWXYZ\"\n",
    "\n",
    "def normalize_text(s):\n",
    "    \"\"\"Uppercase and strip accents/punctuation except spaces and digits for easier viewing.\"\"\"\n",
    "    s = s.upper()\n",
    "    # Keep letters, spaces, digits, and basic punctuation for readability\n",
    "    return re.sub(r\"[^A-Z0-9 \\-\\'\\.,;:!?]\", \"\", s)\n",
    "\n",
    "def caesar_shift_char(ch, k):\n",
    "    if ch.isalpha():\n",
    "        base = ord('A')\n",
    "        return chr((ord(ch) - base + k) % 26 + base)\n",
    "    return ch\n",
    "\n",
    "def caesar_encrypt(plaintext, k):\n",
    "    plaintext = normalize_text(plaintext)\n",
    "    return ''.join(caesar_shift_char(ch, k) for ch in plaintext)\n",
    "\n",
    "def caesar_decrypt(ciphertext, k):\n",
    "    # Decrypt is shift by -k\n",
    "    return ''.join(caesar_shift_char(ch, -k) for ch in ciphertext)\n",
    "\n",
    "def brute_force_all_shifts(ciphertext):\n",
    "    \"\"\"Return list of (key, plaintext_candidate).\"\"\"\n",
    "    out = []\n",
    "    for k in range(26):\n",
    "        out.append((k, caesar_decrypt(ciphertext, k)))\n",
    "    return out\n",
    "\n",
    "# A compact, high-signal wordlist for simple scoring (no internet needed).\n",
    "COMMON_WORDS = set('''\n",
    "THE OF AND TO IN A IS THAT IT HE WAS FOR ON ARE AS WITH HIS THEY I AT BE\n",
    "THIS HAVE FROM OR ONE HAD BY WORD BUT NOT WHAT ALL WERE WE WHEN YOUR CAN\n",
    "SAID THERE USE AN EACH WHICH SHE DO HOW THEIR IF\n",
    "'''.split())\n",
    "\n",
    "def english_word_score(text):\n",
    "    \"\"\"Score based on how many COMMON_WORDS appear (very rough heuristic).\"\"\"\n",
    "    words = re.findall(r\"[A-Z']+\", text.upper())\n",
    "    if not words:\n",
    "        return 0.0\n",
    "    hits = sum(1 for w in words if w in COMMON_WORDS)\n",
    "    return hits / max(1, len(words))\n",
    "\n",
    "# English letter frequency (percentage) from typical corpora\n",
    "ENGLISH_FREQ = {\n",
    "    'A': 8.12, 'B': 1.49, 'C': 2.71, 'D': 4.32, 'E': 12.02, 'F': 2.30,\n",
    "    'G': 2.03, 'H': 5.92, 'I': 7.31, 'J': 0.10, 'K': 0.69, 'L': 3.98,\n",
    "    'M': 2.61, 'N': 6.95, 'O': 7.68, 'P': 1.82, 'Q': 0.11, 'R': 6.02,\n",
    "    'S': 6.28, 'T': 9.10, 'U': 2.88, 'V': 1.11, 'W': 2.09, 'X': 0.17,\n",
    "    'Y': 2.11, 'Z': 0.07\n",
    "}\n",
    "\n",
    "def chi_square_score(text):\n",
    "    \"\"\"Lower is better (observed vs expected English letter distribution).\"\"\"\n",
    "    text_only = re.findall(r\"[A-Z]\", text.upper())\n",
    "    N = len(text_only)\n",
    "    if N == 0:\n",
    "        return float('inf')\n",
    "    counts = Counter(text_only)\n",
    "    chi = 0.0\n",
    "    for letter in ALPHABET:\n",
    "        observed = counts.get(letter, 0)\n",
    "        expected = ENGLISH_FREQ[letter] * N / 100.0\n",
    "        chi += (observed - expected) ** 2 / (expected + 1e-9)  # avoid zero-div\n",
    "    return chi\n",
    "\n",
    "def combined_score(text, alpha=0.7):\n",
    "    \"\"\"Combine (normalized) chi-square (lower better) and word-score (higher better).\n",
    "    We invert chi-square so that larger is better; then blend with word-score.\n",
    "    \"\"\"\n",
    "    cs = chi_square_score(text)\n",
    "    ws = english_word_score(text)\n",
    "    # Normalize/invert chi-square via a simple transform; add 1 to stabilize\n",
    "    inv_chi = 1.0 / (1.0 + cs)\n",
    "    return alpha * inv_chi + (1 - alpha) * ws\n",
    "\n",
    "print(\"✔️ Helpers loaded.\")\n"
   ]
  },
  {
   "cell_type": "markdown",
   "id": "274a7996",
   "metadata": {},
   "source": [
    "\n",
    "## 1) How the Caesar wheel maps letters\n",
    "\n",
    "A Caesar wheel represents a rotation of the alphabet. For a key **k**, each plaintext letter `P` maps to ciphertext letter `C` by:\n",
    "\n",
    "\\[ C = (P + k) \\mod 26 \\]\n",
    "\n",
    "Decrypting is the inverse rotation:\n",
    "\n",
    "\\[ P = (C - k) \\mod 26 \\]\n",
    "\n",
    "You can experiment with a sample plaintext and key below.\n"
   ]
  },
  {
   "cell_type": "code",
   "execution_count": null,
   "id": "4358a497",
   "metadata": {},
   "outputs": [],
   "source": [
    "\n",
    "sample_plain = \"WE ARE READY FOR WAR AND IT IS TIME YOU SHOULD ATTACK TOMORROW AT DAWN\"\n",
    "key = 7  # try different shifts 0-25\n",
    "cipher = caesar_encrypt(sample_plain, key)\n",
    "decoded = caesar_decrypt(cipher, key)\n",
    "print(\"Key:\", key)\n",
    "print(\"Plain :\", sample_plain)\n",
    "print(\"Cipher:\", cipher)\n",
    "print(\"Back  :\", decoded)\n"
   ]
  },
  {
   "cell_type": "markdown",
   "id": "e0fda359",
   "metadata": {},
   "source": [
    "## 2) Brute‑force all 26 keys"
   ]
  },
  {
   "cell_type": "code",
   "execution_count": null,
   "id": "f52b10d4",
   "metadata": {},
   "outputs": [],
   "source": [
    "\n",
    "#ciphertext = \"HAAHJR HA KHDU\"  # Replace with your cipher text (uppercase letters work best)\n",
    "ciphertext = cipher\n",
    "candidates = brute_force_all_shifts(ciphertext)\n",
    "\n",
    "for k, pt in candidates:\n",
    "    print(f\"k={k:2d} -> {pt}\")\n"
   ]
  },
  {
   "cell_type": "markdown",
   "id": "743e0824",
   "metadata": {},
   "source": [
    "## 3) Rank candidates by English‑likeness (combined score)"
   ]
  },
  {
   "cell_type": "code",
   "execution_count": null,
   "id": "f79a2ee7",
   "metadata": {},
   "outputs": [],
   "source": [
    "\n",
    "scored = []\n",
    "for k, pt in candidates:\n",
    "    score = combined_score(pt, alpha=0.7)\n",
    "    scored.append((score, k, pt))\n",
    "\n",
    "scored.sort(reverse=True)  # larger = better\n",
    "print(\"Top 10 candidates by score:\")\n",
    "for i, (score, k, pt) in enumerate(scored[:10], 1):\n",
    "    print(f\"{i:2d}. k={k:2d} | score={score:.4f} | {pt[:100]}{'...' if len(pt)>100 else ''}\")\n"
   ]
  },
  {
   "cell_type": "markdown",
   "id": "36fbf405",
   "metadata": {},
   "source": [
    "## 4) Use a crib (known word fragment) to filter results"
   ]
  },
  {
   "cell_type": "code",
   "execution_count": null,
   "id": "e4003781",
   "metadata": {},
   "outputs": [],
   "source": [
    "\n",
    "crib = \"ATTACK\"  # e.g., a word you expect in the plaintext (case-insensitive)\n",
    "crib_re = re.compile(re.escape(crib), re.IGNORECASE)\n",
    "\n",
    "filtered = [(k, pt) for (k, pt) in brute_force_all_shifts(ciphertext) if crib_re.search(pt)]\n",
    "if not filtered:\n",
    "    print(f\"No candidates contain crib '{crib}'. Try a different crib or remove it.\")\n",
    "else:\n",
    "    for k, pt in filtered:\n",
    "        print(f\"k={k:2d} -> {pt}\")\n"
   ]
  },
  {
   "cell_type": "markdown",
   "id": "c9fe5f1d",
   "metadata": {},
   "source": [
    "\n",
    "## 5) Frequency analysis visualization\n",
    "\n",
    "Compare the letter frequency of a candidate plaintext against typical English. Lower **chi‑square** generally indicates a closer match.\n",
    "\n",
    "> If you're in **Colab**, run this cell to see a bar chart.\n"
   ]
  },
  {
   "cell_type": "code",
   "execution_count": null,
   "id": "198f083b",
   "metadata": {},
   "outputs": [],
   "source": [
    "\n",
    "import matplotlib.pyplot as plt\n",
    "\n",
    "def letter_freq(text):\n",
    "    letters = [c for c in text.upper() if c.isalpha()]\n",
    "    N = len(letters)\n",
    "    counts = Counter(letters)\n",
    "    return [100.0 * counts.get(ch, 0)/N if N else 0.0 for ch in ALPHABET]\n",
    "\n",
    "# Pick the top-scoring candidate\n",
    "best_score, best_k, best_pt = scored[0]\n",
    "obs = letter_freq(best_pt)\n",
    "exp = [ENGLISH_FREQ[ch] for ch in ALPHABET]\n",
    "\n",
    "plt.figure(figsize=(12,5))\n",
    "plt.bar(range(26), obs, alpha=0.7, label=\"Observed (candidate)\")\n",
    "plt.plot(range(26), exp, linewidth=2, label=\"Expected (English)\")\n",
    "plt.xticks(range(26), list(ALPHABET))\n",
    "plt.title(f\"Letter Frequency | best k={best_k}, chi^2={chi_square_score(best_pt):.2f}\")\n",
    "plt.xlabel(\"Letter\")\n",
    "plt.ylabel(\"Frequency (%)\")\n",
    "plt.legend()\n",
    "plt.show()\n",
    "\n",
    "print(\"Best candidate preview:\")\n",
    "print(best_pt[:500])\n"
   ]
  },
  {
   "cell_type": "markdown",
   "id": "3b070f36",
   "metadata": {},
   "source": [
    "## 6) Bonus: auto‑detect best key"
   ]
  },
  {
   "cell_type": "code",
   "execution_count": null,
   "id": "f277278c",
   "metadata": {},
   "outputs": [],
   "source": [
    "\n",
    "def detect_best_key(ciphertext, alpha=0.7):\n",
    "    best = None\n",
    "    for k, pt in brute_force_all_shifts(ciphertext):\n",
    "        score = combined_score(pt, alpha=alpha)\n",
    "        if best is None or score > best[0]:\n",
    "            best = (score, k, pt)\n",
    "    return best  # (score, k, plaintext)\n",
    "\n",
    "# Try it:\n",
    "best = detect_best_key(ciphertext, alpha=0.7)\n",
    "print(f\"Best -> k={best[1]} | score={best[0]:.4f}\\n{best[2]}\")\n"
   ]
  },
  {
   "cell_type": "markdown",
   "id": "1dc94b06",
   "metadata": {},
   "source": [
    "\n",
    "## 7) Exercises for your team\n",
    "\n",
    "1. **Warm‑up**: Encrypt your own short message with a secret key `k` and swap with another team. Use Sections 2–3 to recover it.  \n",
    "2. **Crib Hunt**: For a longer ciphertext, brainstorm possible cribs (e.g., names, places, common words) and use Section 4 to speed up discovery.  \n",
    "3. **Tuning**: Adjust the `alpha` parameter in `combined_score` (0.0–1.0). When does word‑based vs. chi‑square scoring work better? Why?  \n",
    "4. **Wheel Logic**: Draw your Caesar wheel. Show how `k=13` (ROT13) maps letters. Why does applying ROT13 twice recover the original?  \n",
    "5. **Noise**: Add punctuation, numbers, and spacing noise to a plaintext, then encrypt. Does brute‑forcing still work? What changes?  \n",
    "6. **Edge Case**: Create a very short ciphertext (<= 8 letters). Which ranking method fails first? Propose an improvement.\n"
   ]
  },
  {
   "cell_type": "markdown",
   "id": "1ba29762",
   "metadata": {},
   "source": [
    "\n",
    "## Appendix: Notes for instructors\n",
    "\n",
    "- The ranking here blends **chi‑square** (distributional) with **dictionary hits** (content). This is robust for classroom demos without external packages.  \n",
    "- For advanced classes, try bigram/trigram models or a larger word list to improve ranking accuracy.  \n",
    "- Remind students that **Caesar ciphers are not secure**—they're a historical stepping stone to modern cryptography.\n"
   ]
  }
 ],
 "metadata": {
  "kernelspec": {
   "display_name": "Python 3 (ipykernel)",
   "language": "python",
   "name": "python3"
  },
  "language_info": {
   "codemirror_mode": {
    "name": "ipython",
    "version": 3
   },
   "file_extension": ".py",
   "mimetype": "text/x-python",
   "name": "python",
   "nbconvert_exporter": "python",
   "pygments_lexer": "ipython3",
   "version": "3.12.3"
  }
 },
 "nbformat": 4,
 "nbformat_minor": 5
}
