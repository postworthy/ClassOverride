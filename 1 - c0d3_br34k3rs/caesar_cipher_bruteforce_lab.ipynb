{
 "cells": [
  {
   "cell_type": "markdown",
   "id": "0fa141a9",
   "metadata": {},
   "source": [
    "\n",
    "# 🧪 Hacking Class Lab: Brute‑Forcing Caesar (Shift) Ciphers\n",
    "\n",
    "Welcome to the **Caesar Cipher Brute‑Force Lab**. This notebook is designed for use in **Google Colab** (or locally in Jupyter) for your hacking class session on code breaking with a **Caesar cipher wheel**.\n",
    "\n",
    "### What you'll learn\n",
    "- How Caesar/shift ciphers work and how a cipher wheel represents shifts  \n",
    "- How to brute‑force all 26 keys and **rank** candidates automatically  \n",
    "- How to use **frequency analysis** & **chi‑square** scoring  \n",
    "- How to search with a **crib** (a likely plaintext word)  \n",
    "- How to visualize letter frequencies and reason about results  \n",
    "\n",
    "> Tip: The cipher wheel maps plaintext letters to ciphertext letters by a fixed rotation (shift). Brute‑forcing tries all 26 possible rotations to recover the message.\n"
   ]
  },
  {
   "cell_type": "markdown",
   "id": "db95105d",
   "metadata": {},
   "source": [
    "## 0) Setup"
   ]
  },
  {
   "cell_type": "code",
   "execution_count": 1,
   "id": "8b8bd358",
   "metadata": {},
   "outputs": [
    {
     "name": "stdout",
     "output_type": "stream",
     "text": [
      "✔️ Helpers loaded.\n"
     ]
    }
   ],
   "source": [
    "\n",
    "# No external installs required. Pure-Python helpers below.\n",
    "from collections import Counter\n",
    "import math\n",
    "import re\n",
    "\n",
    "ALPHABET = \"ABCDEFGHIJKLMNOPQRSTUVWXYZ\"\n",
    "\n",
    "def normalize_text(s):\n",
    "    \"\"\"Uppercase and strip accents/punctuation except spaces and digits for easier viewing.\"\"\"\n",
    "    s = s.upper()\n",
    "    # Keep letters, spaces, digits, and basic punctuation for readability\n",
    "    return re.sub(r\"[^A-Z0-9 \\-\\'\\.,;:!?]\", \"\", s)\n",
    "\n",
    "def caesar_shift_char(ch, k):\n",
    "    if ch.isalpha():\n",
    "        base = ord('A')\n",
    "        return chr((ord(ch) - base + k) % 26 + base)\n",
    "    return ch\n",
    "\n",
    "def caesar_encrypt(plaintext, k):\n",
    "    plaintext = normalize_text(plaintext)\n",
    "    return ''.join(caesar_shift_char(ch, k) for ch in plaintext)\n",
    "\n",
    "def caesar_decrypt(ciphertext, k):\n",
    "    # Decrypt is shift by -k\n",
    "    return ''.join(caesar_shift_char(ch, -k) for ch in ciphertext)\n",
    "\n",
    "def brute_force_all_shifts(ciphertext):\n",
    "    \"\"\"Return list of (key, plaintext_candidate).\"\"\"\n",
    "    out = []\n",
    "    for k in range(26):\n",
    "        out.append((k, caesar_decrypt(ciphertext, k)))\n",
    "    return out\n",
    "\n",
    "# A compact, high-signal wordlist for simple scoring (no internet needed).\n",
    "COMMON_WORDS = set('''\n",
    "THE OF AND TO IN A IS THAT IT HE WAS FOR ON ARE AS WITH HIS THEY I AT BE\n",
    "THIS HAVE FROM OR ONE HAD BY WORD BUT NOT WHAT ALL WERE WE WHEN YOUR CAN\n",
    "SAID THERE USE AN EACH WHICH SHE DO HOW THEIR IF\n",
    "'''.split())\n",
    "\n",
    "def english_word_score(text):\n",
    "    \"\"\"Score based on how many COMMON_WORDS appear (very rough heuristic).\"\"\"\n",
    "    words = re.findall(r\"[A-Z']+\", text.upper())\n",
    "    if not words:\n",
    "        return 0.0\n",
    "    hits = sum(1 for w in words if w in COMMON_WORDS)\n",
    "    return hits / max(1, len(words))\n",
    "\n",
    "# English letter frequency (percentage) from typical corpora\n",
    "ENGLISH_FREQ = {\n",
    "    'A': 8.12, 'B': 1.49, 'C': 2.71, 'D': 4.32, 'E': 12.02, 'F': 2.30,\n",
    "    'G': 2.03, 'H': 5.92, 'I': 7.31, 'J': 0.10, 'K': 0.69, 'L': 3.98,\n",
    "    'M': 2.61, 'N': 6.95, 'O': 7.68, 'P': 1.82, 'Q': 0.11, 'R': 6.02,\n",
    "    'S': 6.28, 'T': 9.10, 'U': 2.88, 'V': 1.11, 'W': 2.09, 'X': 0.17,\n",
    "    'Y': 2.11, 'Z': 0.07\n",
    "}\n",
    "\n",
    "def chi_square_score(text):\n",
    "    \"\"\"Lower is better (observed vs expected English letter distribution).\"\"\"\n",
    "    text_only = re.findall(r\"[A-Z]\", text.upper())\n",
    "    N = len(text_only)\n",
    "    if N == 0:\n",
    "        return float('inf')\n",
    "    counts = Counter(text_only)\n",
    "    chi = 0.0\n",
    "    for letter in ALPHABET:\n",
    "        observed = counts.get(letter, 0)\n",
    "        expected = ENGLISH_FREQ[letter] * N / 100.0\n",
    "        chi += (observed - expected) ** 2 / (expected + 1e-9)  # avoid zero-div\n",
    "    return chi\n",
    "\n",
    "def combined_score(text, alpha=0.7):\n",
    "    \"\"\"Combine (normalized) chi-square (lower better) and word-score (higher better).\n",
    "    We invert chi-square so that larger is better; then blend with word-score.\n",
    "    \"\"\"\n",
    "    cs = chi_square_score(text)\n",
    "    ws = english_word_score(text)\n",
    "    # Normalize/invert chi-square via a simple transform; add 1 to stabilize\n",
    "    inv_chi = 1.0 / (1.0 + cs)\n",
    "    return alpha * inv_chi + (1 - alpha) * ws\n",
    "\n",
    "print(\"✔️ Helpers loaded.\")\n"
   ]
  },
  {
   "cell_type": "markdown",
   "id": "274a7996",
   "metadata": {},
   "source": [
    "\n",
    "## 1) How the Caesar wheel maps letters\n",
    "\n",
    "A Caesar wheel represents a rotation of the alphabet. For a key **k**, each plaintext letter `P` maps to ciphertext letter `C` by:\n",
    "\n",
    "\\[ C = (P + k) \\mod 26 \\]\n",
    "\n",
    "Decrypting is the inverse rotation:\n",
    "\n",
    "\\[ P = (C - k) \\mod 26 \\]\n",
    "\n",
    "You can experiment with a sample plaintext and key below.\n"
   ]
  },
  {
   "cell_type": "code",
   "execution_count": 9,
   "id": "4358a497",
   "metadata": {},
   "outputs": [
    {
     "name": "stdout",
     "output_type": "stream",
     "text": [
      "Key: 7\n",
      "Plain : WE ARE READY FOR WAR AND IT IS TIME YOU SHOULD ATTACK TOMORROW AT DAWN\n",
      "Cipher: DL HYL YLHKF MVY DHY HUK PA PZ APTL FVB ZOVBSK HAAHJR AVTVYYVD HA KHDU\n",
      "Back  : WE ARE READY FOR WAR AND IT IS TIME YOU SHOULD ATTACK TOMORROW AT DAWN\n"
     ]
    }
   ],
   "source": [
    "\n",
    "sample_plain = \"WE ARE READY FOR WAR AND IT IS TIME YOU SHOULD ATTACK TOMORROW AT DAWN\"\n",
    "key = 7  # try different shifts 0-25\n",
    "cipher = caesar_encrypt(sample_plain, key)\n",
    "decoded = caesar_decrypt(cipher, key)\n",
    "print(\"Key:\", key)\n",
    "print(\"Plain :\", sample_plain)\n",
    "print(\"Cipher:\", cipher)\n",
    "print(\"Back  :\", decoded)\n"
   ]
  },
  {
   "cell_type": "markdown",
   "id": "e0fda359",
   "metadata": {},
   "source": [
    "## 2) Brute‑force all 26 keys"
   ]
  },
  {
   "cell_type": "code",
   "execution_count": 10,
   "id": "f52b10d4",
   "metadata": {},
   "outputs": [
    {
     "name": "stdout",
     "output_type": "stream",
     "text": [
      "k= 0 -> DL HYL YLHKF MVY DHY HUK PA PZ APTL FVB ZOVBSK HAAHJR AVTVYYVD HA KHDU\n",
      "k= 1 -> CK GXK XKGJE LUX CGX GTJ OZ OY ZOSK EUA YNUARJ GZZGIQ ZUSUXXUC GZ JGCT\n",
      "k= 2 -> BJ FWJ WJFID KTW BFW FSI NY NX YNRJ DTZ XMTZQI FYYFHP YTRTWWTB FY IFBS\n",
      "k= 3 -> AI EVI VIEHC JSV AEV ERH MX MW XMQI CSY WLSYPH EXXEGO XSQSVVSA EX HEAR\n",
      "k= 4 -> ZH DUH UHDGB IRU ZDU DQG LW LV WLPH BRX VKRXOG DWWDFN WRPRUURZ DW GDZQ\n",
      "k= 5 -> YG CTG TGCFA HQT YCT CPF KV KU VKOG AQW UJQWNF CVVCEM VQOQTTQY CV FCYP\n",
      "k= 6 -> XF BSF SFBEZ GPS XBS BOE JU JT UJNF ZPV TIPVME BUUBDL UPNPSSPX BU EBXO\n",
      "k= 7 -> WE ARE READY FOR WAR AND IT IS TIME YOU SHOULD ATTACK TOMORROW AT DAWN\n",
      "k= 8 -> VD ZQD QDZCX ENQ VZQ ZMC HS HR SHLD XNT RGNTKC ZSSZBJ SNLNQQNV ZS CZVM\n",
      "k= 9 -> UC YPC PCYBW DMP UYP YLB GR GQ RGKC WMS QFMSJB YRRYAI RMKMPPMU YR BYUL\n",
      "k=10 -> TB XOB OBXAV CLO TXO XKA FQ FP QFJB VLR PELRIA XQQXZH QLJLOOLT XQ AXTK\n",
      "k=11 -> SA WNA NAWZU BKN SWN WJZ EP EO PEIA UKQ ODKQHZ WPPWYG PKIKNNKS WP ZWSJ\n",
      "k=12 -> RZ VMZ MZVYT AJM RVM VIY DO DN ODHZ TJP NCJPGY VOOVXF OJHJMMJR VO YVRI\n",
      "k=13 -> QY ULY LYUXS ZIL QUL UHX CN CM NCGY SIO MBIOFX UNNUWE NIGILLIQ UN XUQH\n",
      "k=14 -> PX TKX KXTWR YHK PTK TGW BM BL MBFX RHN LAHNEW TMMTVD MHFHKKHP TM WTPG\n",
      "k=15 -> OW SJW JWSVQ XGJ OSJ SFV AL AK LAEW QGM KZGMDV SLLSUC LGEGJJGO SL VSOF\n",
      "k=16 -> NV RIV IVRUP WFI NRI REU ZK ZJ KZDV PFL JYFLCU RKKRTB KFDFIIFN RK URNE\n",
      "k=17 -> MU QHU HUQTO VEH MQH QDT YJ YI JYCU OEK IXEKBT QJJQSA JECEHHEM QJ TQMD\n",
      "k=18 -> LT PGT GTPSN UDG LPG PCS XI XH IXBT NDJ HWDJAS PIIPRZ IDBDGGDL PI SPLC\n",
      "k=19 -> KS OFS FSORM TCF KOF OBR WH WG HWAS MCI GVCIZR OHHOQY HCACFFCK OH ROKB\n",
      "k=20 -> JR NER ERNQL SBE JNE NAQ VG VF GVZR LBH FUBHYQ NGGNPX GBZBEEBJ NG QNJA\n",
      "k=21 -> IQ MDQ DQMPK RAD IMD MZP UF UE FUYQ KAG ETAGXP MFFMOW FAYADDAI MF PMIZ\n",
      "k=22 -> HP LCP CPLOJ QZC HLC LYO TE TD ETXP JZF DSZFWO LEELNV EZXZCCZH LE OLHY\n",
      "k=23 -> GO KBO BOKNI PYB GKB KXN SD SC DSWO IYE CRYEVN KDDKMU DYWYBBYG KD NKGX\n",
      "k=24 -> FN JAN ANJMH OXA FJA JWM RC RB CRVN HXD BQXDUM JCCJLT CXVXAAXF JC MJFW\n",
      "k=25 -> EM IZM ZMILG NWZ EIZ IVL QB QA BQUM GWC APWCTL IBBIKS BWUWZZWE IB LIEV\n"
     ]
    }
   ],
   "source": [
    "\n",
    "#ciphertext = \"HAAHJR HA KHDU\"  # Replace with your cipher text (uppercase letters work best)\n",
    "ciphertext = cipher\n",
    "candidates = brute_force_all_shifts(ciphertext)\n",
    "\n",
    "for k, pt in candidates:\n",
    "    print(f\"k={k:2d} -> {pt}\")\n"
   ]
  },
  {
   "cell_type": "markdown",
   "id": "743e0824",
   "metadata": {},
   "source": [
    "## 3) Rank candidates by English‑likeness (combined score)"
   ]
  },
  {
   "cell_type": "code",
   "execution_count": 11,
   "id": "f79a2ee7",
   "metadata": {},
   "outputs": [
    {
     "name": "stdout",
     "output_type": "stream",
     "text": [
      "Top 10 candidates by score:\n",
      " 1. k= 7 | score=0.1674 | WE ARE READY FOR WAR AND IT IS TIME YOU SHOULD ATTACK TOMORROW AT DAWN\n",
      " 2. k=12 | score=0.0206 | RZ VMZ MZVYT AJM RVM VIY DO DN ODHZ TJP NCJPGY VOOVXF OJHJMMJR VO YVRI\n",
      " 3. k=19 | score=0.0051 | KS OFS FSORM TCF KOF OBR WH WG HWAS MCI GVCIZR OHHOQY HCACFFCK OH ROKB\n",
      " 4. k= 9 | score=0.0032 | UC YPC PCYBW DMP UYP YLB GR GQ RGKC WMS QFMSJB YRRYAI RMKMPPMU YR BYUL\n",
      " 5. k= 0 | score=0.0027 | DL HYL YLHKF MVY DHY HUK PA PZ APTL FVB ZOVBSK HAAHJR AVTVYYVD HA KHDU\n",
      " 6. k=23 | score=0.0025 | GO KBO BOKNI PYB GKB KXN SD SC DSWO IYE CRYEVN KDDKMU DYWYBBYG KD NKGX\n",
      " 7. k=18 | score=0.0025 | LT PGT GTPSN UDG LPG PCS XI XH IXBT NDJ HWDJAS PIIPRZ IDBDGGDL PI SPLC\n",
      " 8. k=14 | score=0.0023 | PX TKX KXTWR YHK PTK TGW BM BL MBFX RHN LAHNEW TMMTVD MHFHKKHP TM WTPG\n",
      " 9. k=16 | score=0.0016 | NV RIV IVRUP WFI NRI REU ZK ZJ KZDV PFL JYFLCU RKKRTB KFDFIIFN RK URNE\n",
      "10. k=21 | score=0.0015 | IQ MDQ DQMPK RAD IMD MZP UF UE FUYQ KAG ETAGXP MFFMOW FAYADDAI MF PMIZ\n"
     ]
    }
   ],
   "source": [
    "\n",
    "scored = []\n",
    "for k, pt in candidates:\n",
    "    score = combined_score(pt, alpha=0.7)\n",
    "    scored.append((score, k, pt))\n",
    "\n",
    "scored.sort(reverse=True)  # larger = better\n",
    "print(\"Top 10 candidates by score:\")\n",
    "for i, (score, k, pt) in enumerate(scored[:10], 1):\n",
    "    print(f\"{i:2d}. k={k:2d} | score={score:.4f} | {pt[:100]}{'...' if len(pt)>100 else ''}\")\n"
   ]
  },
  {
   "cell_type": "markdown",
   "id": "36fbf405",
   "metadata": {},
   "source": [
    "## 4) Use a crib (known word fragment) to filter results"
   ]
  },
  {
   "cell_type": "code",
   "execution_count": 12,
   "id": "e4003781",
   "metadata": {},
   "outputs": [
    {
     "name": "stdout",
     "output_type": "stream",
     "text": [
      "k= 7 -> WE ARE READY FOR WAR AND IT IS TIME YOU SHOULD ATTACK TOMORROW AT DAWN\n"
     ]
    }
   ],
   "source": [
    "\n",
    "crib = \"ATTACK\"  # e.g., a word you expect in the plaintext (case-insensitive)\n",
    "crib_re = re.compile(re.escape(crib), re.IGNORECASE)\n",
    "\n",
    "filtered = [(k, pt) for (k, pt) in brute_force_all_shifts(ciphertext) if crib_re.search(pt)]\n",
    "if not filtered:\n",
    "    print(f\"No candidates contain crib '{crib}'. Try a different crib or remove it.\")\n",
    "else:\n",
    "    for k, pt in filtered:\n",
    "        print(f\"k={k:2d} -> {pt}\")\n"
   ]
  },
  {
   "cell_type": "markdown",
   "id": "c9fe5f1d",
   "metadata": {},
   "source": [
    "\n",
    "## 5) Frequency analysis visualization\n",
    "\n",
    "Compare the letter frequency of a candidate plaintext against typical English. Lower **chi‑square** generally indicates a closer match.\n",
    "\n",
    "> If you're in **Colab**, run this cell to see a bar chart.\n"
   ]
  },
  {
   "cell_type": "code",
   "execution_count": 13,
   "id": "198f083b",
   "metadata": {},
   "outputs": [
    {
     "data": {
      "image/png": "[encoded data removed]",
      "text/plain": [
       "<Figure size 1200x500 with 1 Axes>"
      ]
     },
     "metadata": {},
     "output_type": "display_data"
    },
    {
     "name": "stdout",
     "output_type": "stream",
     "text": [
      "Best candidate preview:\n",
      "WE ARE READY FOR WAR AND IT IS TIME YOU SHOULD ATTACK TOMORROW AT DAWN\n"
     ]
    }
   ],
   "source": [
    "\n",
    "import matplotlib.pyplot as plt\n",
    "\n",
    "def letter_freq(text):\n",
    "    letters = [c for c in text.upper() if c.isalpha()]\n",
    "    N = len(letters)\n",
    "    counts = Counter(letters)\n",
    "    return [100.0 * counts.get(ch, 0)/N if N else 0.0 for ch in ALPHABET]\n",
    "\n",
    "# Pick the top-scoring candidate\n",
    "best_score, best_k, best_pt = scored[0]\n",
    "obs = letter_freq(best_pt)\n",
    "exp = [ENGLISH_FREQ[ch] for ch in ALPHABET]\n",
    "\n",
    "plt.figure(figsize=(12,5))\n",
    "plt.bar(range(26), obs, alpha=0.7, label=\"Observed (candidate)\")\n",
    "plt.plot(range(26), exp, linewidth=2, label=\"Expected (English)\")\n",
    "plt.xticks(range(26), list(ALPHABET))\n",
    "plt.title(f\"Letter Frequency | best k={best_k}, chi^2={chi_square_score(best_pt):.2f}\")\n",
    "plt.xlabel(\"Letter\")\n",
    "plt.ylabel(\"Frequency (%)\")\n",
    "plt.legend()\n",
    "plt.show()\n",
    "\n",
    "print(\"Best candidate preview:\")\n",
    "print(best_pt[:500])\n"
   ]
  },
  {
   "cell_type": "markdown",
   "id": "3b070f36",
   "metadata": {},
   "source": [
    "## 6) Bonus: auto‑detect best key"
   ]
  },
  {
   "cell_type": "code",
   "execution_count": 14,
   "id": "f277278c",
   "metadata": {},
   "outputs": [
    {
     "name": "stdout",
     "output_type": "stream",
     "text": [
      "Best -> k=7 | score=0.1674\n",
      "WE ARE READY FOR WAR AND IT IS TIME YOU SHOULD ATTACK TOMORROW AT DAWN\n"
     ]
    }
   ],
   "source": [
    "\n",
    "def detect_best_key(ciphertext, alpha=0.7):\n",
    "    best = None\n",
    "    for k, pt in brute_force_all_shifts(ciphertext):\n",
    "        score = combined_score(pt, alpha=alpha)\n",
    "        if best is None or score > best[0]:\n",
    "            best = (score, k, pt)\n",
    "    return best  # (score, k, plaintext)\n",
    "\n",
    "# Try it:\n",
    "best = detect_best_key(ciphertext, alpha=0.7)\n",
    "print(f\"Best -> k={best[1]} | score={best[0]:.4f}\\n{best[2]}\")\n"
   ]
  },
  {
   "cell_type": "markdown",
   "id": "1dc94b06",
   "metadata": {},
   "source": [
    "\n",
    "## 7) Exercises for your team\n",
    "\n",
    "1. **Warm‑up**: Encrypt your own short message with a secret key `k` and swap with another team. Use Sections 2–3 to recover it.  \n",
    "2. **Crib Hunt**: For a longer ciphertext, brainstorm possible cribs (e.g., names, places, common words) and use Section 4 to speed up discovery.  \n",
    "3. **Tuning**: Adjust the `alpha` parameter in `combined_score` (0.0–1.0). When does word‑based vs. chi‑square scoring work better? Why?  \n",
    "4. **Wheel Logic**: Draw your Caesar wheel. Show how `k=13` (ROT13) maps letters. Why does applying ROT13 twice recover the original?  \n",
    "5. **Noise**: Add punctuation, numbers, and spacing noise to a plaintext, then encrypt. Does brute‑forcing still work? What changes?  \n",
    "6. **Edge Case**: Create a very short ciphertext (<= 8 letters). Which ranking method fails first? Propose an improvement.\n"
   ]
  },
  {
   "cell_type": "markdown",
   "id": "1ba29762",
   "metadata": {},
   "source": [
    "\n",
    "## Appendix: Notes for instructors\n",
    "\n",
    "- The ranking here blends **chi‑square** (distributional) with **dictionary hits** (content). This is robust for classroom demos without external packages.  \n",
    "- For advanced classes, try bigram/trigram models or a larger word list to improve ranking accuracy.  \n",
    "- Remind students that **Caesar ciphers are not secure**—they're a historical stepping stone to modern cryptography.\n"
   ]
  }
 ],
 "metadata": {
  "kernelspec": {
   "display_name": "Python 3 (ipykernel)",
   "language": "python",
   "name": "python3"
  },
  "language_info": {
   "codemirror_mode": {
    "name": "ipython",
    "version": 3
   },
   "file_extension": ".py",
   "mimetype": "text/x-python",
   "name": "python",
   "nbconvert_exporter": "python",
   "pygments_lexer": "ipython3",
   "version": "3.12.3"
  }
 },
 "nbformat": 4,
 "nbformat_minor": 5
}
