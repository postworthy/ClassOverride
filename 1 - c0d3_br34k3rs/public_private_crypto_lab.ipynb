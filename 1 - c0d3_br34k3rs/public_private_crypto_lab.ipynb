{
 "cells": [
  {
   "cell_type": "markdown",
   "id": "c4f165dc",
   "metadata": {},
   "source": [
    "\n",
    "# 🔐 Public–Private Key Cryptography Lab (with Diffie–Hellman)\n",
    "\n",
    "Welcome to the **Public–Private Key Cryptography** lab. This notebook is designed for **Google Colab** (or local Jupyter)\n",
    "and demonstrates the core ideas behind **asymmetric cryptography**, including:\n",
    "\n",
    "- **Diffie–Hellman (DH) key exchange** (classical and secure-sized demos)\n",
    "- **RSA**: toy keygen, encrypt/decrypt, sign/verify (for learning — *not secure*)\n",
    "- **Digital signatures** and why they matter\n",
    "- **How HTTPS/TLS uses these building blocks** to secure the web\n",
    "- Strengths, pitfalls, and hands-on exercises\n",
    "\n",
    "> ⚠️ **Security note**: The RSA code here is intentionally simple for learning. Do **not** use it for real security.\n"
   ]
  },
  {
   "cell_type": "markdown",
   "id": "152f83b0",
   "metadata": {},
   "source": [
    "## 0) Setup & Math Helpers"
   ]
  },
  {
   "cell_type": "code",
   "execution_count": 1,
   "id": "ac4ac819",
   "metadata": {},
   "outputs": [
    {
     "name": "stdout",
     "output_type": "stream",
     "text": [
      "✔️ Math helpers loaded.\n"
     ]
    }
   ],
   "source": [
    "\n",
    "import secrets\n",
    "import math\n",
    "from typing import Tuple\n",
    "\n",
    "def egcd(a, b):\n",
    "    if b == 0:\n",
    "        return (a, 1, 0)\n",
    "    g, x1, y1 = egcd(b, a % b)\n",
    "    return (g, y1, x1 - (a // b) * y1)\n",
    "\n",
    "def modinv(a, m):\n",
    "    g, x, _ = egcd(a, m)\n",
    "    if g != 1:\n",
    "        raise ValueError(\"No modular inverse\")\n",
    "    return x % m\n",
    "\n",
    "def is_probable_prime(n, k=10):\n",
    "    if n < 2:\n",
    "        return False\n",
    "    small_primes = [2,3,5,7,11,13,17,19,23,29]\n",
    "    if n in small_primes:\n",
    "        return True\n",
    "    if any(n % p == 0 for p in small_primes):\n",
    "        return False\n",
    "    d = n - 1\n",
    "    s = 0\n",
    "    while d % 2 == 0:\n",
    "        d //= 2\n",
    "        s += 1\n",
    "    for _ in range(k):\n",
    "        a = secrets.randbelow(n - 3) + 2\n",
    "        x = pow(a, d, n)\n",
    "        if x == 1 or x == n - 1:\n",
    "            continue\n",
    "        for _ in range(s - 1):\n",
    "            x = pow(x, 2, n)\n",
    "            if x == n - 1:\n",
    "                break\n",
    "        else:\n",
    "            return False\n",
    "    return True\n",
    "\n",
    "def gen_prime(bits=512):\n",
    "    while True:\n",
    "        candidate = secrets.randbits(bits) | 1 | (1 << (bits-1))\n",
    "        if is_probable_prime(candidate):\n",
    "            return candidate\n",
    "\n",
    "print(\"✔️ Math helpers loaded.\")\n"
   ]
  },
  {
   "cell_type": "markdown",
   "id": "f12f3b2b",
   "metadata": {},
   "source": [
    "\n",
    "## 1) Diffie–Hellman (DH) Key Exchange\n",
    "\n",
    "Two parties (**Alice** and **Bob**) agree on a public prime modulus \\( p \\) and generator \\( g \\).\n",
    "They keep **private exponents** \\( a \\) and \\( b \\), compute public values:\n",
    "\n",
    "\\[ A = g^a \\bmod p, \\quad B = g^b \\bmod p \\]\n",
    "\n",
    "They exchange \\( A \\) and \\( B \\). Each computes the **shared secret**:\n",
    "\n",
    "\\[ s = B^a \\bmod p = A^b \\bmod p = g^{ab} \\bmod p \\]\n",
    "\n",
    "An eavesdropper sees \\( p, g, A, B \\) but (assuming the **Discrete Logarithm Problem** is hard) cannot efficiently recover \\( a, b, \\) or \\( s \\).\n"
   ]
  },
  {
   "cell_type": "markdown",
   "id": "28c0f544",
   "metadata": {},
   "source": [
    "### 1.a) Tiny demo (not secure, just to see the math)"
   ]
  },
  {
   "cell_type": "code",
   "execution_count": 2,
   "id": "753e3d58",
   "metadata": {},
   "outputs": [
    {
     "name": "stdout",
     "output_type": "stream",
     "text": [
      "Public params (p=23, g=5)\n",
      "Alice sends A=8; Bob sends B=19\n",
      "Alice shared secret: 2\n",
      "Bob   shared secret: 2\n"
     ]
    }
   ],
   "source": [
    "\n",
    "p = 23\n",
    "g = 5\n",
    "\n",
    "alice_a = 6\n",
    "bob_b = 15\n",
    "\n",
    "A = pow(g, alice_a, p)\n",
    "B = pow(g, bob_b, p)\n",
    "\n",
    "s_alice = pow(B, alice_a, p)\n",
    "s_bob   = pow(A, bob_b, p)\n",
    "\n",
    "print(f\"Public params (p={p}, g={g})\")\n",
    "print(f\"Alice sends A={A}; Bob sends B={B}\")\n",
    "print(f\"Alice shared secret: {s_alice}\")\n",
    "print(f\"Bob   shared secret: {s_bob}\")\n",
    "assert s_alice == s_bob\n"
   ]
  },
  {
   "cell_type": "markdown",
   "id": "49589eb9",
   "metadata": {},
   "source": [
    "### 1.b) Larger random demo (still for teaching; not production)"
   ]
  },
  {
   "cell_type": "code",
   "execution_count": 3,
   "id": "5b1e850f",
   "metadata": {},
   "outputs": [
    {
     "name": "stdout",
     "output_type": "stream",
     "text": [
      "p (bits): 256\n",
      "g: 2\n",
      "A (Alice pub): 91396844919125495133863509949148462550274709687994602361826545074902697525677\n",
      "B (Bob pub): 18696754961641118433533668509947665448318825989841081932191466071783524740706\n",
      "Shared secret matches? True\n"
     ]
    }
   ],
   "source": [
    "\n",
    "p = gen_prime(bits=256)\n",
    "g = 2\n",
    "\n",
    "alice_a = secrets.randbits(200)\n",
    "bob_b   = secrets.randbits(200)\n",
    "\n",
    "A = pow(g, alice_a, p)\n",
    "B = pow(g, bob_b, p)\n",
    "\n",
    "s_alice = pow(B, alice_a, p)\n",
    "s_bob   = pow(A, bob_b, p)\n",
    "\n",
    "print(\"p (bits):\", p.bit_length())\n",
    "print(\"g:\", g)\n",
    "print(\"A (Alice pub):\", A)\n",
    "print(\"B (Bob pub):\", B)\n",
    "print(\"Shared secret matches?\", s_alice == s_bob)\n"
   ]
  },
  {
   "cell_type": "markdown",
   "id": "54a8b129",
   "metadata": {},
   "source": [
    "\n",
    "## 2) RSA (Toy Implementation for Learning)\n",
    "\n",
    "RSA relies on the difficulty of **integer factorization**.\n",
    "\n",
    "1. Choose two large primes \\( p, q \\), compute \\( n = pq \\) and \\( \\phi(n) = (p-1)(q-1) \\).\n",
    "2. Pick public exponent \\( e \\) coprime to \\( \\phi(n) \\) (commonly 65537).\n",
    "3. Compute private exponent \\( d = e^{-1} \\bmod \\phi(n) \\).\n",
    "4. **Public key**: \\( (n, e) \\). **Private key**: \\( d \\) (and \\( p, q \\)).\n",
    "\n",
    "- **Encrypt**: \\( c = m^e \\bmod n \\)\n",
    "- **Decrypt**: \\( m = c^d \\bmod n \\)\n",
    "\n",
    "> This demo omits padding (e.g., OAEP) and real-world safeguards — it’s strictly educational.\n"
   ]
  },
  {
   "cell_type": "markdown",
   "id": "5c6e9164",
   "metadata": {},
   "source": [
    "### 2.a) RSA key generation, encrypt/decrypt"
   ]
  },
  {
   "cell_type": "code",
   "execution_count": 4,
   "id": "9284574c",
   "metadata": {},
   "outputs": [
    {
     "name": "stdout",
     "output_type": "stream",
     "text": [
      "RSA modulus bits: 511\n",
      "Cipher integer: 976246350663560970159624490650212795887305625195316336714479928616510405709284807038849326991271661287236845715891331048854116659855629609865550003105482\n",
      "Recovered: b'HELLO INTERNET'\n"
     ]
    }
   ],
   "source": [
    "\n",
    "import math\n",
    "\n",
    "def rsa_keygen(bits=512):\n",
    "    p = gen_prime(bits // 2)\n",
    "    q = gen_prime(bits // 2)\n",
    "    n = p * q\n",
    "    phi = (p - 1) * (q - 1)\n",
    "    e = 65537\n",
    "    if math.gcd(e, phi) != 1:\n",
    "        return rsa_keygen(bits)\n",
    "    d = modinv(e, phi)\n",
    "    return (n, e, d, p, q)\n",
    "\n",
    "def rsa_encrypt(m_int, n, e):\n",
    "    if m_int >= n:\n",
    "        raise ValueError(\"Message too large for modulus (no padding used).\")\n",
    "    return pow(m_int, e, n)\n",
    "\n",
    "def rsa_decrypt(c_int, n, d):\n",
    "    return pow(c_int, d, n)\n",
    "\n",
    "n, e, d, p, q = rsa_keygen(bits=512)\n",
    "message = b\"HELLO INTERNET\"\n",
    "m_int = int.from_bytes(message, \"big\")\n",
    "\n",
    "c_int = rsa_encrypt(m_int, n, e)\n",
    "m2_int = rsa_decrypt(c_int, n, d)\n",
    "decoded = m2_int.to_bytes((m2_int.bit_length()+7)//8, \"big\")\n",
    "\n",
    "print(\"RSA modulus bits:\", n.bit_length())\n",
    "print(\"Cipher integer:\", c_int)\n",
    "print(\"Recovered:\", decoded)\n"
   ]
  },
  {
   "cell_type": "markdown",
   "id": "328a5156",
   "metadata": {},
   "source": [
    "### 2.b) RSA digital signature (toy)"
   ]
  },
  {
   "cell_type": "code",
   "execution_count": 5,
   "id": "cd40cc04",
   "metadata": {},
   "outputs": [
    {
     "name": "stdout",
     "output_type": "stream",
     "text": [
      "Signature integer: 1174695321285157307279632888875884199471790413029555612568398113834499877309603278491973151966897517287219984222217084492466963687598571076869543014292577\n",
      "Verify? -> True\n",
      "Verify altered? -> False\n"
     ]
    }
   ],
   "source": [
    "\n",
    "import hashlib\n",
    "\n",
    "def rsa_sign(message_bytes, n, d):\n",
    "    h = hashlib.sha256(message_bytes).digest()\n",
    "    h_int = int.from_bytes(h, \"big\")\n",
    "    return pow(h_int, d, n)\n",
    "\n",
    "def rsa_verify(message_bytes, signature_int, n, e):\n",
    "    h = hashlib.sha256(message_bytes).digest()\n",
    "    h_int = int.from_bytes(h, \"big\")\n",
    "    check = pow(signature_int, e, n)\n",
    "    return check == h_int\n",
    "\n",
    "msg = b\"I certify that this is authentic.\"\n",
    "sig = rsa_sign(msg, n, d)\n",
    "print(\"Signature integer:\", sig)\n",
    "print(\"Verify? ->\", rsa_verify(msg, sig, n, e))\n",
    "print(\"Verify altered? ->\", rsa_verify(msg + b\"!\", sig, n, e))\n"
   ]
  },
  {
   "cell_type": "markdown",
   "id": "2c539b78",
   "metadata": {},
   "source": [
    "\n",
    "## 3) Why the Web is Secure: Hybrid Crypto & TLS\n",
    "\n",
    "Modern **TLS (HTTPS)** uses a **hybrid** approach:\n",
    "\n",
    "- Use **public–private key crypto** (RSA or ECDSA for certificates, plus **ephemeral Diffie–Hellman** (ECDHE/DHE)) to **authenticate** the server and **establish a shared secret**.\n",
    "- Derive **symmetric session keys** (AES/ChaCha20) from the shared secret to **encrypt** bulk data efficiently.\n",
    "- **Certificates** are signed by trusted **Certificate Authorities (CAs)** so your browser can verify you’re talking to the real website (authenticity).\n",
    "\n",
    "### High-level TLS 1.2/1.3 flow (simplified)\n",
    "1. Client says hello (ciphers it supports, random nonce).\n",
    "2. Server responds with certificate (public key) and parameters for **ephemeral DH** (e.g., ECDHE).\n",
    "3. Both sides compute a shared secret via DH, derive symmetric keys.\n",
    "4. Client verifies server certificate (chain to a trusted CA), checks hostname.\n",
    "5. Switch to symmetric encryption; all application data (HTTP) is now encrypted and integrity-protected.\n",
    "\n",
    "**Strengths enabled:** confidentiality, integrity, authentication, forward secrecy (with ephemeral DH).\n"
   ]
  },
  {
   "cell_type": "markdown",
   "id": "907962cd",
   "metadata": {},
   "source": [
    "\n",
    "## 4) Strengths and Pitfalls\n",
    "\n",
    "**Strengths**\n",
    "- **Confidentiality**: Eavesdroppers can’t read encrypted traffic.\n",
    "- **Integrity**: Tampering is detected.\n",
    "- **Authentication**: Certificates ensure you’re connected to the right site.\n",
    "- **Forward Secrecy (FS)**: Ephemeral DH means past sessions stay safe even if long-term keys leak later.\n",
    "\n",
    "**Pitfalls / Cautions**\n",
    "- **Toy crypto ≠ real crypto**: Never roll your own; use vetted libraries (e.g., libsodium, OpenSSL, cryptography).\n",
    "- **Key management** is hard: protect private keys, rotate periodically, use HSMs where appropriate.\n",
    "- **Implementation bugs** and weak randomness break security.\n",
    "- **Algorithm choice**: Prefer modern suites (TLS 1.3, ECDHE, AES-GCM/ChaCha20-Poly1305, RSA-PSS/ECDSA).\n"
   ]
  },
  {
   "cell_type": "markdown",
   "id": "10560563",
   "metadata": {},
   "source": [
    "\n",
    "## 5) Bonus: Use DH to derive a symmetric key and encrypt a message\n",
    "\n",
    "We’ll do a quick (educational) symmetric encryption with Python’s `cryptography` package **if available**.\n",
    "If not, we’ll fall back to a minimal XOR stream (for concept only). In production, always use vetted libraries.\n"
   ]
  },
  {
   "cell_type": "code",
   "execution_count": 6,
   "id": "96e82808",
   "metadata": {},
   "outputs": [
    {
     "name": "stdout",
     "output_type": "stream",
     "text": [
      "Derived key (first 16 bytes): b'6\\x9e\\x1c\\x08$\\x8f\\xc2\\xf4q/\\x0c\\x1c\\x9b*\\x04\\x81'\n",
      "Fernet unavailable; using XOR demo. Ciphertext: b'\\x9f\\\\A\\x99jM\\xb4#j\\x1a\\x8c\\x80\\xf5\\xb0\\xcd\\xe3t\\x1c\\x8bk\\x18\\x14\\x0fr\\x8b'\n",
      "Recovered: b'Meet at 9pm. Bring pizza.'\n"
     ]
    }
   ],
   "source": [
    "\n",
    "import hashlib, os\n",
    "\n",
    "# Recompute a DH exchange for this section\n",
    "def demo_dh(bits=192):\n",
    "    p_demo = gen_prime(bits=bits)\n",
    "    g_demo = 5\n",
    "    a_demo = secrets.randbits(bits-32)\n",
    "    b_demo = secrets.randbits(bits-32)\n",
    "    A_demo = pow(g_demo, a_demo, p_demo)\n",
    "    B_demo = pow(g_demo, b_demo, p_demo)\n",
    "    sA = pow(B_demo, a_demo, p_demo)\n",
    "    sB = pow(A_demo, b_demo, p_demo)\n",
    "    assert sA == sB\n",
    "    return p_demo, g_demo, A_demo, B_demo, sA\n",
    "\n",
    "p_demo, g_demo, A_demo, B_demo, sA = demo_dh(bits=192)\n",
    "shared_bytes = sA.to_bytes((sA.bit_length()+7)//8, \"big\")\n",
    "key = hashlib.sha256(shared_bytes).digest()\n",
    "\n",
    "plaintext = b\"Meet at 9pm. Bring pizza.\"\n",
    "print(\"Derived key (first 16 bytes):\", key[:16])\n",
    "\n",
    "try:\n",
    "    from cryptography.fernet import Fernet\n",
    "    import base64\n",
    "    fkey = base64.urlsafe_b64encode(key)\n",
    "    f = Fernet(fkey)\n",
    "    ct = f.encrypt(plaintext)\n",
    "    pt = f.decrypt(ct)\n",
    "    print(\"Fernet available -> ciphertext length:\", len(ct))\n",
    "    print(\"Recovered:\", pt)\n",
    "except Exception as e:\n",
    "    stream = hashlib.sha256(key + b\"nonce\").digest()\n",
    "    ct = bytes([p ^ stream[i % len(stream)] for i, p in enumerate(plaintext)])\n",
    "    pt = bytes([c ^ stream[i % len(stream)] for i, c in enumerate(ct)])\n",
    "    print(\"Fernet unavailable; using XOR demo. Ciphertext:\", ct)\n",
    "    print(\"Recovered:\", pt)\n"
   ]
  },
  {
   "cell_type": "markdown",
   "id": "6c128446",
   "metadata": {},
   "source": [
    "\n",
    "## 6) Exercises\n",
    "\n",
    "1. **DH Variations**: Change \\( p, g \\) and private exponents. Confirm both sides still derive the same secret.\n",
    "2. **Eavesdropper Challenge**: Given \\( p, g, A, B \\) from the tiny demo, try to recover the shared secret without \\( a \\) or \\( b \\). Why is this hard for large \\( p \\)?\n",
    "3. **RSA Limits**: Try encrypting a message that is too large for the modulus. What happens? How do real systems handle arbitrary-length data (hint: hybrid encryption & padding)?\n",
    "4. **Signatures**: Modify the message after signing and verify that validation fails. Explain how signatures provide integrity and authenticity.\n",
    "5. **TLS Thought Experiment**: Sketch the TLS 1.3 handshake message flow and label where DH, certificates, and symmetric keys appear.\n",
    "6. **Forward Secrecy**: Explain why using new ephemeral DH keys for each session protects past conversations if a server’s private key leaks later.\n"
   ]
  },
  {
   "cell_type": "markdown",
   "id": "d58a7e3f",
   "metadata": {},
   "source": [
    "\n",
    "## Appendix: TLS Key Ideas in One Screen\n",
    "\n",
    "- **Authentication**: Server proves identity with a CA-signed certificate (RSA/ECDSA public key).\n",
    "- **Key Exchange**: Ephemeral **(EC)DHE** performs DH to agree on a shared secret.\n",
    "- **Key Derivation**: HKDF expands the shared secret into multiple traffic keys.\n",
    "- **Symmetric Encryption**: AES-GCM or ChaCha20-Poly1305 protects data (confidentiality & integrity).\n",
    "- **Certificates & Trust**: Browsers trust a root store; intermediates sign server certs; clients verify chain + hostname + validity.\n"
   ]
  }
 ],
 "metadata": {
  "kernelspec": {
   "display_name": "Python 3 (ipykernel)",
   "language": "python",
   "name": "python3"
  },
  "language_info": {
   "codemirror_mode": {
    "name": "ipython",
    "version": 3
   },
   "file_extension": ".py",
   "mimetype": "text/x-python",
   "name": "python",
   "nbconvert_exporter": "python",
   "pygments_lexer": "ipython3",
   "version": "3.12.3"
  }
 },
 "nbformat": 4,
 "nbformat_minor": 5
}
